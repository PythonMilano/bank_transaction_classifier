{
 "cells": [
  {
   "cell_type": "markdown",
   "metadata": {},
   "source": [
    "This example is a rip-off of the official documentation : [Working With Text Data — scikit-learn 0.20.2 documentation](https://scikit-learn.org/stable/tutorial/text_analytics/working_with_text_data.html#tokenizing-text-with-scikit-learn)"
   ]
  },
  {
   "cell_type": "code",
   "execution_count": 1,
   "metadata": {
    "ExecuteTime": {
     "end_time": "2019-02-04T08:56:35.855484Z",
     "start_time": "2019-02-04T08:56:35.320184Z"
    }
   },
   "outputs": [],
   "source": [
    "# %load https://gist.githubusercontent.com/kidpixo/2ec078d09834b5aa7869/raw/350f79fe4f2e09592404a76db18dcc01a961444b/ipython_inizialization.py\n",
    "import pandas as pd\n",
    "import numpy as np\n",
    "import matplotlib\n",
    "from matplotlib import pyplot as plt\n",
    "%matplotlib inline\n",
    "\n",
    "pd.set_option('display.max_colwidth',120)\n",
    "pd.set_option('display.max_rows',300)\n",
    "\n",
    "## my new favourite :\n",
    "from IPython.display import display"
   ]
  },
  {
   "cell_type": "code",
   "execution_count": 2,
   "metadata": {
    "ExecuteTime": {
     "end_time": "2019-02-04T08:56:35.877240Z",
     "start_time": "2019-02-04T08:56:35.858076Z"
    }
   },
   "outputs": [],
   "source": [
    "labelled = pd.read_csv('training.csv',sep=',')\n",
    "unknown = pd.read_csv('unknown.csv',sep=',')"
   ]
  },
  {
   "cell_type": "code",
   "execution_count": 3,
   "metadata": {
    "ExecuteTime": {
     "end_time": "2019-02-04T08:56:36.204593Z",
     "start_time": "2019-02-04T08:56:36.198823Z"
    },
    "scrolled": false
   },
   "outputs": [
    {
     "name": "stdout",
     "output_type": "stream",
     "text": [
      "labelled : 236, unknown : 186 \n",
      "Features :  ['Empfänger/Zahlungspflichtiger']\n",
      "Target :  ['Kategorie 1']\n"
     ]
    }
   ],
   "source": [
    "## German \n",
    "cols = ['Empfänger/Zahlungspflichtiger','Kategorie 1'] # all the columns relevant to this analysis\n",
    "text_col = ['Empfänger/Zahlungspflichtiger']           # the \"data\" column\n",
    "target_col = ['Kategorie 1']                           # the target column\n",
    "\n",
    "# ## English\n",
    "# cols = ['Recipient / Payer','Category 1'] # all the columns relevant to this analysis\n",
    "# text_col = ['Recipient / Payer']          # the \"data\" column\n",
    "# target_col = ['Category 1']               # the target column\n",
    "\n",
    "print('labelled : {}, unknown : {} '.format(labelled.shape[0],unknown.shape[0]))\n",
    "print('Features : ', text_col)\n",
    "print('Target : ', target_col)"
   ]
  },
  {
   "cell_type": "code",
   "execution_count": 4,
   "metadata": {
    "ExecuteTime": {
     "end_time": "2019-02-04T08:56:36.948034Z",
     "start_time": "2019-02-04T08:56:36.922402Z"
    }
   },
   "outputs": [
    {
     "data": {
      "text/html": [
       "<div>\n",
       "<style scoped>\n",
       "    .dataframe tbody tr th:only-of-type {\n",
       "        vertical-align: middle;\n",
       "    }\n",
       "\n",
       "    .dataframe tbody tr th {\n",
       "        vertical-align: top;\n",
       "    }\n",
       "\n",
       "    .dataframe thead th {\n",
       "        text-align: right;\n",
       "    }\n",
       "</style>\n",
       "<table border=\"1\" class=\"dataframe\">\n",
       "  <thead>\n",
       "    <tr style=\"text-align: right;\">\n",
       "      <th></th>\n",
       "      <th>Empfänger/Zahlungspflichtiger</th>\n",
       "      <th>Kategorie 1</th>\n",
       "    </tr>\n",
       "  </thead>\n",
       "  <tbody>\n",
       "    <tr>\n",
       "      <th>225</th>\n",
       "      <td>Foodwatch e.V.</td>\n",
       "      <td>Spenden</td>\n",
       "    </tr>\n",
       "    <tr>\n",
       "      <th>1</th>\n",
       "      <td>Degussa Bank AG</td>\n",
       "      <td>Bargeld</td>\n",
       "    </tr>\n",
       "    <tr>\n",
       "      <th>155</th>\n",
       "      <td>Kerstin Stahler</td>\n",
       "      <td>Geschenke</td>\n",
       "    </tr>\n",
       "    <tr>\n",
       "      <th>187</th>\n",
       "      <td>Dorotheenstadt Apotheke</td>\n",
       "      <td>Gesundheit</td>\n",
       "    </tr>\n",
       "    <tr>\n",
       "      <th>172</th>\n",
       "      <td>Paysafe Financial ServicesLimited</td>\n",
       "      <td>Sport</td>\n",
       "    </tr>\n",
       "  </tbody>\n",
       "</table>\n",
       "</div>"
      ],
      "text/plain": [
       "         Empfänger/Zahlungspflichtiger Kategorie 1\n",
       "225                     Foodwatch e.V.     Spenden\n",
       "1                      Degussa Bank AG     Bargeld\n",
       "155                    Kerstin Stahler   Geschenke\n",
       "187            Dorotheenstadt Apotheke  Gesundheit\n",
       "172  Paysafe Financial ServicesLimited       Sport"
      ]
     },
     "metadata": {},
     "output_type": "display_data"
    },
    {
     "name": "stdout",
     "output_type": "stream",
     "text": [
      "\n"
     ]
    },
    {
     "data": {
      "text/html": [
       "<div>\n",
       "<style scoped>\n",
       "    .dataframe tbody tr th:only-of-type {\n",
       "        vertical-align: middle;\n",
       "    }\n",
       "\n",
       "    .dataframe tbody tr th {\n",
       "        vertical-align: top;\n",
       "    }\n",
       "\n",
       "    .dataframe thead th {\n",
       "        text-align: right;\n",
       "    }\n",
       "</style>\n",
       "<table border=\"1\" class=\"dataframe\">\n",
       "  <thead>\n",
       "    <tr style=\"text-align: right;\">\n",
       "      <th></th>\n",
       "      <th>Empfänger/Zahlungspflichtiger</th>\n",
       "      <th>Kategorie 1</th>\n",
       "    </tr>\n",
       "  </thead>\n",
       "  <tbody>\n",
       "    <tr>\n",
       "      <th>171</th>\n",
       "      <td>IKEA 129 WALTERSDORF</td>\n",
       "      <td>NaN</td>\n",
       "    </tr>\n",
       "    <tr>\n",
       "      <th>94</th>\n",
       "      <td>Lastschrift aus Kartenzahlung</td>\n",
       "      <td>NaN</td>\n",
       "    </tr>\n",
       "    <tr>\n",
       "      <th>90</th>\n",
       "      <td>VOLKSWOHL BUND Lebensversicherung a.G.</td>\n",
       "      <td>NaN</td>\n",
       "    </tr>\n",
       "    <tr>\n",
       "      <th>181</th>\n",
       "      <td>Bausparkasse Schwaebisch Hall Aktiengesellschaft - Bau</td>\n",
       "      <td>NaN</td>\n",
       "    </tr>\n",
       "    <tr>\n",
       "      <th>19</th>\n",
       "      <td>KUTZNER UND KUTZNER</td>\n",
       "      <td>NaN</td>\n",
       "    </tr>\n",
       "  </tbody>\n",
       "</table>\n",
       "</div>"
      ],
      "text/plain": [
       "                              Empfänger/Zahlungspflichtiger  Kategorie 1\n",
       "171                                    IKEA 129 WALTERSDORF          NaN\n",
       "94                            Lastschrift aus Kartenzahlung          NaN\n",
       "90                   VOLKSWOHL BUND Lebensversicherung a.G.          NaN\n",
       "181  Bausparkasse Schwaebisch Hall Aktiengesellschaft - Bau          NaN\n",
       "19                                      KUTZNER UND KUTZNER          NaN"
      ]
     },
     "metadata": {},
     "output_type": "display_data"
    }
   ],
   "source": [
    "display(labelled[cols].sample(5))\n",
    "print()\n",
    "display(unknown[cols].sample(5))"
   ]
  },
  {
   "cell_type": "code",
   "execution_count": 25,
   "metadata": {
    "ExecuteTime": {
     "end_time": "2019-02-04T09:35:53.448453Z",
     "start_time": "2019-02-04T09:35:53.444048Z"
    }
   },
   "outputs": [],
   "source": [
    "# Extracting features from text files\n",
    "## Tokenizing text with scikit-learn\n",
    "\n",
    "import sklearn\n",
    "from sklearn.feature_extraction.text import CountVectorizer, TfidfTransformer\n",
    "from sklearn.model_selection import train_test_split\n",
    "from sklearn.pipeline import Pipeline\n",
    "\n",
    "# model 1\n",
    "from sklearn.naive_bayes import MultinomialNB\n",
    "# model 2\n",
    "from sklearn.linear_model import SGDClassifier\n",
    "\n",
    "# paramters gris search\n",
    "from sklearn.model_selection import GridSearchCV"
   ]
  },
  {
   "cell_type": "markdown",
   "metadata": {},
   "source": [
    "`extraxt_str` is a dumb attempt of cutting out some recurrent stuff in text fields, like receipt/order number, recurring not significative text and so on. \n",
    "\n",
    "It should be properly implemented via [Natural Language Toolkit (NLTK)](https://www.nltk.org/) :\n",
    "\n",
    "* [Stemming - Wikipedia](https://en.wikipedia.org/wiki/Stemming)\n",
    "* [NLP Tutorial Using Python NLTK (Simple Examples) - DZone AI](https://dzone.com/articles/nlp-tutorial-using-python-nltk-simple-examples)\n",
    "* [https://www.nltk.org/book/ch03.html](https://www.nltk.org/book/ch03.html)"
   ]
  },
  {
   "cell_type": "code",
   "execution_count": 7,
   "metadata": {
    "ExecuteTime": {
     "end_time": "2019-01-31T10:47:14.858802Z",
     "start_time": "2019-01-31T10:47:14.853218Z"
    }
   },
   "outputs": [],
   "source": [
    "def extraxt_str(text):\n",
    "    import re\n",
    "    text =  re.sub(r'[0-9]+', ' ', text)\n",
    "    text =  re.sub(r'Basislastschrift', '', text)\n",
    "    text =  re.sub(r'[/\\+\\.:]+', ' ', text)\n",
    "    text =  re.sub(r'IBAN', '', text)\n",
    "    text =  re.sub(r'BIC', '', text)\n",
    "    text =  re.sub(r'FPIN', '', text)\n",
    "    text =  re.sub(r'REF', '', text)\n",
    "    text =  re.sub(r'CICC', '', text)\n",
    "    text =  re.sub(r'ZZZ', '', text)\n",
    "    text =  re.sub(r'\\s+', ' ', text)\n",
    "#     text = re.sub(r'\\W', ' ', str(X[sen]))     # Remove all the special characters\n",
    "    text = re.sub(r'\\s+[a-zA-Z]\\s+', ' ', text)     # remove all single characters\n",
    "    text = re.sub(r'\\^[a-zA-Z]\\s+', ' ', text)  # Remove single characters from the start\n",
    "    text = text.lower()    # Converting to Lowercase\n",
    "\n",
    "#     text = text.split()     # Lemmatization : here we need NLTK to strip common words\n",
    "    return text \n"
   ]
  },
  {
   "cell_type": "markdown",
   "metadata": {},
   "source": [
    "## Define the data\n",
    "\n",
    "To teach the model we need to define the training and the target  data\n",
    "\n",
    "- `labelled_text` : our traning data\n",
    "- `labelled_target` : our target data, or the labels\n",
    "\n",
    "We will split the traning labelled data to measure the generalisation performances of the models."
   ]
  },
  {
   "cell_type": "code",
   "execution_count": 6,
   "metadata": {
    "ExecuteTime": {
     "end_time": "2019-02-04T09:24:13.211627Z",
     "start_time": "2019-02-04T09:24:13.192089Z"
    }
   },
   "outputs": [
    {
     "name": "stdout",
     "output_type": "stream",
     "text": [
      "Original Data Train/Test : 236/236\n",
      "  Split-Train Train/Test : 224/224\n",
      "   Split-Test Train/Test : 12/12\n"
     ]
    }
   ],
   "source": [
    "labelled_text = labelled.dropna(subset=text_col)[text_col].values[:,0]\n",
    "## Having more columns one could mix and match them to extend the feature space\n",
    "# labelled_text = (labelled.dropna(subset=text_col)[text_col[0]]+' '+ labelled.dropna(subset=text_col)[text_col[1]].apply(extraxt_str)).values.tolist()\n",
    "labelled_target = labelled.dropna(subset=text_col)[target_col].values[:,0]\n",
    "\n",
    "labelled_text_train, labelled_text_test, \\\n",
    "labelled_target_train, labelled_target_test = \\\n",
    "        train_test_split(labelled_text, labelled_target,test_size=0.05, random_state=42)\n",
    "\n",
    "print('Original Data Train/Test : {}/{}\\n'\n",
    "      '  Split-Train Train/Test : {}/{}\\n'\n",
    "      '   Split-Test Train/Test : {}/{}'.format(\n",
    "        labelled_text.shape[0], labelled_target.shape[0], \\\n",
    "        labelled_text_train.shape[0], labelled_target_train.shape[0], \\\n",
    "        labelled_text_test.shape[0], labelled_target_test.shape[0]))\n",
    "\n"
   ]
  },
  {
   "cell_type": "markdown",
   "metadata": {},
   "source": [
    "### Machines are learning\n",
    "\n",
    "For user learning sake (sorry for the pun) we can :\n",
    "\n",
    "- pre-process\n",
    "- instanciate\n",
    "- fit\n",
    "- predict\n",
    "\n",
    "each single model.\n",
    "\n",
    "\n",
    "This exact pattern applies to each new model, below we will streamline it."
   ]
  },
  {
   "cell_type": "code",
   "execution_count": 20,
   "metadata": {
    "ExecuteTime": {
     "end_time": "2019-02-04T09:31:32.498866Z",
     "start_time": "2019-02-04T09:31:32.467286Z"
    }
   },
   "outputs": [
    {
     "name": "stdout",
     "output_type": "stream",
     "text": [
      "MultinomialNB\n",
      "Train Score    Test Score     \n",
      "0.303571       0.666667       \n",
      "SGDClassifier\n",
      "Train Score    Test Score     \n",
      "0.058036       0.916667       \n"
     ]
    }
   ],
   "source": [
    "count_vect = CountVectorizer()\n",
    "\n",
    "# From occurrences to frequencies\n",
    "labelled_count_vec = count_vect.fit_transform(labelled_text)\n",
    "\n",
    "tfidf_transformer = TfidfTransformer()\n",
    "X_train_tfidf = tfidf_transformer.fit_transform(labelled_count_vec)\n",
    "\n",
    "#### Model 1 : Multinomial Naive Bayes > https://scikit-learn.org/stable/modules/generated/sklearn.naive_bayes.MultinomialNB.html\n",
    "clf = MultinomialNB().fit(X_train_tfidf, labelled_target)\n",
    "\n",
    "predictor = lambda x : clf.predict(tfidf_transformer.transform(count_vect.transform(x)))\n",
    "\n",
    "print('MultinomialNB')\n",
    "print ('{:<15}{:<15}\\n{:<15f}{:<15f}'.format('Train Score','Test Score' ,\\\n",
    "                      np.mean(predictor(labelled_target_train) == labelled_target_train),\\\n",
    "                      np.mean(predictor(labelled_text_test) == labelled_target_test)))\n",
    "\n",
    "# print all the input (data,classes, predictions)\n",
    "# display(list(zip(labelled_target_test,labelled_text_test,predictor(labelled_text_test))))\n",
    "\n",
    "### Model 2 : SGDClassifier > https://scikit-learn.org/stable/modules/generated/sklearn.linear_model.SGDClassifier.html\n",
    "clf = SGDClassifier(loss='hinge', penalty='l2',alpha=1e-3,\n",
    "                    random_state=42,max_iter=100, \n",
    "                    tol=1e-1).fit(X_train_tfidf, labelled_target)\n",
    "\n",
    "predictor = lambda x : clf.predict(tfidf_transformer.transform(count_vect.transform(x)))\n",
    "\n",
    "print('SGDClassifier')\n",
    "print ('{:<15}{:<15}\\n{:<15f}{:<15f}'.format('Train Score','Test Score' ,\\\n",
    "                      np.mean(predictor(labelled_target_train) == labelled_target_train),\\\n",
    "                      np.mean(predictor(labelled_text_test) == labelled_target_test)))\n",
    "\n",
    "\n",
    "# print all the input (data,classes, predictions)\n",
    "# display(list(zip(labelled_target_test,labelled_text_test,predictor(labelled_text_test))))"
   ]
  },
  {
   "cell_type": "markdown",
   "metadata": {},
   "source": [
    "### Machines are learning with Pipelines"
   ]
  },
  {
   "cell_type": "code",
   "execution_count": 21,
   "metadata": {
    "ExecuteTime": {
     "end_time": "2019-02-04T09:32:29.151582Z",
     "start_time": "2019-02-04T09:32:29.134337Z"
    }
   },
   "outputs": [
    {
     "name": "stdout",
     "output_type": "stream",
     "text": [
      "Train Score    Test Score     \n",
      "0.303571       0.750000       \n"
     ]
    }
   ],
   "source": [
    "text_clf = Pipeline([\n",
    "    ('vect', CountVectorizer()),\n",
    "    ('tfidf', TfidfTransformer()),\n",
    "    ('clf', MultinomialNB(alpha=1e-3)),\n",
    "])\n",
    "\n",
    "text_clf.fit(labelled_text_train, labelled_target_train)\n",
    "\n",
    "print ('{:<15}{:<15}\\n{:<15f}{:<15f}'.format('Train Score','Test Score' ,\\\n",
    "                      np.mean(text_clf.predict(labelled_target_train) == labelled_target_train),\\\n",
    "                      np.mean(text_clf.predict(labelled_text_test) == labelled_target_test)))\n",
    "\n",
    "# display(list(zip(labelled_target_test,labelled_text_test,text_clf.predict(labelled_text_test))))"
   ]
  },
  {
   "cell_type": "code",
   "execution_count": 26,
   "metadata": {
    "ExecuteTime": {
     "end_time": "2019-02-04T09:36:48.876231Z",
     "start_time": "2019-02-04T09:36:48.852983Z"
    }
   },
   "outputs": [
    {
     "name": "stdout",
     "output_type": "stream",
     "text": [
      "Train Score    Test Score     \n",
      "0.071429       0.750000       \n"
     ]
    }
   ],
   "source": [
    "text_clf = Pipeline([\n",
    "    ('vect', CountVectorizer()),\n",
    "    ('tfidf', TfidfTransformer()),\n",
    "    ('clf', SGDClassifier(loss='hinge', penalty='l2', \n",
    "                          alpha=1e-3, random_state=42,\n",
    "                          max_iter=100, tol=1e-3)),\n",
    "])\n",
    "\n",
    "text_clf.fit(labelled_text_train, labelled_target_train)\n",
    "\n",
    "print ('{:<15}{:<15}\\n{:<15f}{:<15f}'.format('Train Score','Test Score' ,\\\n",
    "                      np.mean(text_clf.predict(labelled_target_train) == labelled_target_train),\\\n",
    "                      np.mean(text_clf.predict(labelled_text_test) == labelled_target_test)))\n",
    "\n",
    "# display(list(zip(labelled_target_test,labelled_text_test,text_clf.predict(labelled_text_test))))"
   ]
  },
  {
   "cell_type": "markdown",
   "metadata": {},
   "source": [
    "### Machines are learning with Paramters Grid-search\n",
    "\n",
    "Search for the best tuning parameters for the model.\n",
    "\n",
    "This could be computationally expensive!!"
   ]
  },
  {
   "cell_type": "code",
   "execution_count": 33,
   "metadata": {
    "ExecuteTime": {
     "end_time": "2019-02-04T09:38:21.699004Z",
     "start_time": "2019-02-04T09:38:21.122696Z"
    }
   },
   "outputs": [
    {
     "name": "stderr",
     "output_type": "stream",
     "text": [
      "/Users/damo_ma/.virtualenvs/mascs_analysis/lib/python3.6/site-packages/sklearn/model_selection/_split.py:652: Warning: The least populated class in y has only 1 members, which is too few. The minimum number of members in any class cannot be less than n_splits=5.\n",
      "  % (min_groups, self.n_splits)), Warning)\n"
     ]
    },
    {
     "name": "stdout",
     "output_type": "stream",
     "text": [
      "clf__alpha: 1e-05\n",
      "tfidf__use_idf: True\n",
      "vect__ngram_range: (1, 2)\n"
     ]
    }
   ],
   "source": [
    "parameters = {\n",
    "    'vect__ngram_range': [(1, 1), (1, 2)],\n",
    "    'tfidf__use_idf': (True, False),\n",
    "    'clf__alpha': (1e-1, 1e-5), # regularisation paramter == model flexibility\n",
    "}\n",
    "\n",
    "gs_clf = GridSearchCV(text_clf, parameters, cv=5, iid=False, n_jobs=-1)\n",
    "# labelled_text_train.shape, labelled_target_train.shape\n",
    "gs_clf = gs_clf.fit(labelled_text_train, labelled_target_train)\n",
    "\n",
    "gs_clf.best_score_                                  \n",
    "\n",
    "for param_name in sorted(parameters.keys()):\n",
    "    print(\"%s: %r\" % (param_name, gs_clf.best_params_[param_name]))"
   ]
  },
  {
   "cell_type": "code",
   "execution_count": 39,
   "metadata": {
    "ExecuteTime": {
     "end_time": "2019-02-04T09:58:30.995594Z",
     "start_time": "2019-02-04T09:58:30.986299Z"
    }
   },
   "outputs": [
    {
     "name": "stdout",
     "output_type": "stream",
     "text": [
      "Train Score    Test Score     \n",
      "0.089286       0.666667       \n"
     ]
    }
   ],
   "source": [
    "# already fitted + optimised text_clf \n",
    "text_clf = gs_clf.best_estimator_\n",
    "\n",
    "print ('{:<15}{:<15}\\n{:<15f}{:<15f}'.format('Train Score','Test Score' ,\\\n",
    "                      np.mean(text_clf.predict(labelled_target_train) == labelled_target_train),\\\n",
    "                      np.mean(text_clf.predict(labelled_text_test) == labelled_target_test)))\n",
    "\n",
    "# display(list(zip(labelled_target_test,labelled_text_test,text_clf.predict(labelled_text_test))))"
   ]
  },
  {
   "cell_type": "markdown",
   "metadata": {},
   "source": [
    "### Visualise the Models confusion"
   ]
  },
  {
   "cell_type": "code",
   "execution_count": 40,
   "metadata": {
    "ExecuteTime": {
     "end_time": "2019-02-04T09:58:36.858090Z",
     "start_time": "2019-02-04T09:58:36.289294Z"
    },
    "code_folding": [
     3
    ]
   },
   "outputs": [
    {
     "name": "stdout",
     "output_type": "stream",
     "text": [
      "Confusion matrix, without normalization\n"
     ]
    },
    {
     "data": {
      "image/png": "[encoded data removed]",
      "text/plain": [
       "<Figure size 864x864 with 2 Axes>"
      ]
     },
     "metadata": {
      "needs_background": "light"
     },
     "output_type": "display_data"
    }
   ],
   "source": [
    "from sklearn import metrics\n",
    "# print(metrics.classification_report(labelled_target_test, text_clf.predict(labelled_text_test)))\n",
    "\n",
    "def plot_confusion_matrix(cm, classes,\n",
    "                          normalize=False,\n",
    "                          title='Confusion matrix',\n",
    "                          cmap=plt.cm.Blues):\n",
    "    \"\"\"\n",
    "    This function prints and plots the confusion matrix.\n",
    "    Normalization can be applied by setting `normalize=True`.\n",
    "    \"\"\"\n",
    "    import itertools\n",
    "    if normalize:\n",
    "        cm = cm.astype('float') / cm.sum(axis=1)[:, np.newaxis]\n",
    "        print(\"Normalized confusion matrix\")\n",
    "    else:\n",
    "        print('Confusion matrix, without normalization')\n",
    "\n",
    "#     print(cm)\n",
    "\n",
    "    plt.imshow(cm, interpolation='nearest', cmap=cmap)\n",
    "    plt.title(title)\n",
    "    plt.colorbar(fraction=0.045)\n",
    "    tick_marks = np.arange(len(classes))\n",
    "    plt.xticks(tick_marks, classes, rotation=45)\n",
    "    plt.yticks(tick_marks, classes)\n",
    "\n",
    "    fmt = '.2f' if normalize else 'd'\n",
    "    thresh = cm.max() / 2.\n",
    "    for i, j in itertools.product(range(cm.shape[0]), range(cm.shape[1])):\n",
    "        plt.text(j, i, format(cm[i, j], fmt),\n",
    "                 horizontalalignment=\"center\",\n",
    "                 color=\"white\" if cm[i, j] > thresh else \"black\")\n",
    "\n",
    "    plt.ylabel('True label')\n",
    "    plt.xlabel('Predicted label')\n",
    "    plt.tight_layout()\n",
    "\n",
    "cnf_matrix = metrics.confusion_matrix(labelled_target_test, text_clf.predict(labelled_text_test))\n",
    "\n",
    "# Plot un-normalized confusion matrix\n",
    "plt.figure(figsize=(12,12))\n",
    "plot_confusion_matrix(cnf_matrix, classes=np.unique(labelled_target_test),title='Confusion matrix, without normalization')\n",
    "\n",
    "# # Plot normalized confusion matrix\n",
    "# plt.figure(figsize=(16,16))\n",
    "# plot_confusion_matrix(cnf_matrix, classes=np.unique(labelled_target_test), normalize=True,title='Normalized confusion matrix')\n"
   ]
  },
  {
   "cell_type": "code",
   "execution_count": 43,
   "metadata": {
    "ExecuteTime": {
     "end_time": "2019-02-04T10:00:07.134361Z",
     "start_time": "2019-02-04T10:00:07.109094Z"
    },
    "scrolled": false
   },
   "outputs": [
    {
     "data": {
      "text/html": [
       "<div>\n",
       "<style scoped>\n",
       "    .dataframe tbody tr th:only-of-type {\n",
       "        vertical-align: middle;\n",
       "    }\n",
       "\n",
       "    .dataframe tbody tr th {\n",
       "        vertical-align: top;\n",
       "    }\n",
       "\n",
       "    .dataframe thead th {\n",
       "        text-align: right;\n",
       "    }\n",
       "</style>\n",
       "<table border=\"1\" class=\"dataframe\">\n",
       "  <thead>\n",
       "    <tr style=\"text-align: right;\">\n",
       "      <th></th>\n",
       "      <th>Empfänger/Zahlungspflichtiger</th>\n",
       "      <th>Kategorie 1</th>\n",
       "      <th>predicted</th>\n",
       "    </tr>\n",
       "  </thead>\n",
       "  <tbody>\n",
       "    <tr>\n",
       "      <th>0</th>\n",
       "      <td>RESTAURANT SPEISEHAUS</td>\n",
       "      <td>NaN</td>\n",
       "      <td>Freizeit</td>\n",
       "    </tr>\n",
       "    <tr>\n",
       "      <th>1</th>\n",
       "      <td>PayPal (Europe) S.a.r.l. etCie., S.C.A.</td>\n",
       "      <td>NaN</td>\n",
       "      <td>Lebensmittel</td>\n",
       "    </tr>\n",
       "    <tr>\n",
       "      <th>2</th>\n",
       "      <td>LOGPAY FINANCIAL SERVICES GMBH</td>\n",
       "      <td>NaN</td>\n",
       "      <td>Sport</td>\n",
       "    </tr>\n",
       "    <tr>\n",
       "      <th>3</th>\n",
       "      <td>LOGPAY FINANCIAL SERVICES GMBH</td>\n",
       "      <td>NaN</td>\n",
       "      <td>Sport</td>\n",
       "    </tr>\n",
       "    <tr>\n",
       "      <th>4</th>\n",
       "      <td>DHL Onlinefrankierung</td>\n",
       "      <td>NaN</td>\n",
       "      <td>Versicherung</td>\n",
       "    </tr>\n",
       "  </tbody>\n",
       "</table>\n",
       "</div>"
      ],
      "text/plain": [
       "             Empfänger/Zahlungspflichtiger  Kategorie 1     predicted\n",
       "0                    RESTAURANT SPEISEHAUS          NaN      Freizeit\n",
       "1  PayPal (Europe) S.a.r.l. etCie., S.C.A.          NaN  Lebensmittel\n",
       "2           LOGPAY FINANCIAL SERVICES GMBH          NaN         Sport\n",
       "3           LOGPAY FINANCIAL SERVICES GMBH          NaN         Sport\n",
       "4                    DHL Onlinefrankierung          NaN  Versicherung"
      ]
     },
     "execution_count": 43,
     "metadata": {},
     "output_type": "execute_result"
    }
   ],
   "source": [
    "unknown_text = unknown.dropna(subset=text_col)[text_col[0]].values\n",
    "# unknown_text = (unknown.dropna(subset=text_col)[text_col[0]]+' '+ unknown.dropna(subset=text_col)[text_col[1]].apply(extraxt_str)).values\n",
    "\n",
    "# assign the classes\n",
    "unknown.loc[unknown.dropna(subset=text_col).index,'predicted'] = text_clf.predict(unknown_text) \n",
    "unknown[text_col+target_col+['predicted']].head()\n",
    "\n",
    "# write the unknown data back with the new predicted column"
   ]
  },
  {
   "cell_type": "code",
   "execution_count": null,
   "metadata": {},
   "outputs": [],
   "source": []
  }
 ],
 "metadata": {
  "kernelspec": {
   "display_name": "mascs_analysis (python_3.6.8)",
   "language": "python",
   "name": "mascs_analysis"
  },
  "language_info": {
   "codemirror_mode": {
    "name": "ipython",
    "version": 3
   },
   "file_extension": ".py",
   "mimetype": "text/x-python",
   "name": "python",
   "nbconvert_exporter": "python",
   "pygments_lexer": "ipython3",
   "version": "3.6.8"
  }
 },
 "nbformat": 4,
 "nbformat_minor": 2
}
